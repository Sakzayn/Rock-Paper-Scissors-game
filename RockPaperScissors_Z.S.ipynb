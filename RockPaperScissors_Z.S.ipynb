{
 "cells": [
  {
   "cell_type": "markdown",
   "id": "8676cf9b",
   "metadata": {},
   "source": [
    "### ROCK PAPER SCISSORS\n",
    "A beginner level code for Rock paper Scissors game "
   ]
  },
  {
   "cell_type": "code",
   "execution_count": 2,
   "id": "22fda3fe",
   "metadata": {},
   "outputs": [],
   "source": [
    "import random\n",
    "def Start():\n",
    "    Player=input(\"Make a choice, 'r' is rock, 'p' is paper and 's' is scissors\\n\")\n",
    "    Computer=random.choice(['r','p','s'])\n",
    "\n",
    "    if Player==Computer:\n",
    "        return \"It is a Tie!\"\n",
    "    \n",
    "    if Winner(Player, Computer):\n",
    "        return \"You Won!!!\"\n",
    "    \n",
    "    return \"You Lost lol!\"\n",
    "        \n",
    "def Winner(Player,Computer):\n",
    "    if (Player=='r' and Computer=='s') or (Player=='s' and Computer=='p') or (Player == 'r' and Computer=='p'):\n",
    "        return True    \n",
    "    #rock beats scissors r>s\n",
    "    #scissors cut paper s>p\n",
    "    #paper covers rock p>r\n",
    "    "
   ]
  },
  {
   "cell_type": "code",
   "execution_count": null,
   "id": "ce90beb8",
   "metadata": {},
   "outputs": [],
   "source": [
    "print(Start())"
   ]
  },
  {
   "cell_type": "code",
   "execution_count": null,
   "id": "14959083",
   "metadata": {},
   "outputs": [],
   "source": []
  }
 ],
 "metadata": {
  "kernelspec": {
   "display_name": "Python 3 (ipykernel)",
   "language": "python",
   "name": "python3"
  },
  "language_info": {
   "codemirror_mode": {
    "name": "ipython",
    "version": 3
   },
   "file_extension": ".py",
   "mimetype": "text/x-python",
   "name": "python",
   "nbconvert_exporter": "python",
   "pygments_lexer": "ipython3",
   "version": "3.8.12"
  }
 },
 "nbformat": 4,
 "nbformat_minor": 5
}
